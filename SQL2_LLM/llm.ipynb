{
 "cells": [
  {
   "cell_type": "code",
   "execution_count": 4,
   "metadata": {},
   "outputs": [
    {
     "name": "stdout",
     "output_type": "stream",
     "text": [
      "Note: you may need to restart the kernel to use updated packages.\n"
     ]
    }
   ],
   "source": [
    "pip install --upgrade --quiet  langchain langchain-experimental langchain-openai"
   ]
  },
  {
   "cell_type": "code",
   "execution_count": 2,
   "metadata": {},
   "outputs": [],
   "source": [
    "import os\n",
    "from dotenv import load_dotenv"
   ]
  },
  {
   "cell_type": "code",
   "execution_count": 3,
   "metadata": {},
   "outputs": [
    {
     "data": {
      "text/plain": [
       "True"
      ]
     },
     "execution_count": 3,
     "metadata": {},
     "output_type": "execute_result"
    }
   ],
   "source": [
    "load_dotenv()"
   ]
  },
  {
   "cell_type": "code",
   "execution_count": 4,
   "metadata": {},
   "outputs": [
    {
     "name": "stdout",
     "output_type": "stream",
     "text": [
      "SELECT COUNT(*) FROM Employee\n"
     ]
    }
   ],
   "source": [
    "from langchain_community.utilities import SQLDatabase\n",
    "from langchain.chains import create_sql_query_chain\n",
    "from langchain_openai import ChatOpenAI\n",
    "\n",
    "db = SQLDatabase.from_uri(\"sqlite:///Chinook.db\")\n",
    "chain = create_sql_query_chain(ChatOpenAI(temperature=0), db)\n",
    "response = chain.invoke({\"question\": \"How many employees are there\"})\n",
    "print(response)"
   ]
  },
  {
   "cell_type": "code",
   "execution_count": 5,
   "metadata": {},
   "outputs": [
    {
     "data": {
      "text/plain": [
       "'[(8,)]'"
      ]
     },
     "execution_count": 5,
     "metadata": {},
     "output_type": "execute_result"
    }
   ],
   "source": [
    "db.run(response)"
   ]
  },
  {
   "cell_type": "code",
   "execution_count": 11,
   "metadata": {},
   "outputs": [],
   "source": [
    "def query_out(query):\n",
    "    response = chain.invoke({\"question\":query})\n",
    "    return print(response),db.run(response)    "
   ]
  },
  {
   "cell_type": "code",
   "execution_count": 12,
   "metadata": {},
   "outputs": [
    {
     "name": "stdout",
     "output_type": "stream",
     "text": [
      "SELECT \"BillingCountry\", SUM(\"Total\") AS \"TotalSales\"\n",
      "FROM \"Invoice\"\n",
      "GROUP BY \"BillingCountry\"\n",
      "ORDER BY \"TotalSales\" DESC\n"
     ]
    },
    {
     "data": {
      "text/plain": [
       "(None,\n",
       " \"[('USA', 523.0600000000003), ('Canada', 303.9599999999999), ('France', 195.09999999999994), ('Brazil', 190.09999999999997), ('Germany', 156.48), ('United Kingdom', 112.85999999999999), ('Czech Republic', 90.24000000000001), ('Portugal', 77.23999999999998), ('India', 75.25999999999999), ('Chile', 46.62), ('Ireland', 45.62), ('Hungary', 45.62), ('Austria', 42.62), ('Finland', 41.620000000000005), ('Netherlands', 40.62), ('Norway', 39.62), ('Sweden', 38.620000000000005), ('Poland', 37.620000000000005), ('Italy', 37.620000000000005), ('Denmark', 37.620000000000005), ('Australia', 37.620000000000005), ('Argentina', 37.620000000000005), ('Spain', 37.62), ('Belgium', 37.62)]\")"
      ]
     },
     "execution_count": 12,
     "metadata": {},
     "output_type": "execute_result"
    }
   ],
   "source": [
    "query = \"List the total sales per country for all the countries in database\"\n",
    "query_out(query)"
   ]
  },
  {
   "cell_type": "code",
   "execution_count": 9,
   "metadata": {},
   "outputs": [
    {
     "name": "stdout",
     "output_type": "stream",
     "text": [
      "\n",
      "\n",
      "\u001b[1m> Entering new SQLDatabaseChain chain...\u001b[0m\n",
      "Which state has maximum no. of customer above age 50 years?\n",
      "SQLQuery:\u001b[32;1m\u001b[1;3mSELECT Customer.State, COUNT(Customer.CustomerId) AS \"No. of Customers\"\n",
      "FROM Customer\n",
      "INNER JOIN Employee ON Customer.SupportRepId = Employee.EmployeeId\n",
      "WHERE Employee.BirthDate <= date('now', '-50 years')\n",
      "GROUP BY Customer.State\n",
      "ORDER BY COUNT(Customer.CustomerId) DESC\n",
      "LIMIT 1\u001b[0m\n",
      "SQLResult: \u001b[33;1m\u001b[1;3m[(None, 29)]\u001b[0m\n",
      "Answer:\u001b[32;1m\u001b[1;3mNone\u001b[0m\n",
      "\u001b[1m> Finished chain.\u001b[0m\n"
     ]
    },
    {
     "data": {
      "text/plain": [
       "'None'"
      ]
     },
     "execution_count": 9,
     "metadata": {},
     "output_type": "execute_result"
    }
   ],
   "source": [
    "db_chain.run(\"Which state has maximum no. of customer above age 50 years?\")"
   ]
  },
  {
   "cell_type": "code",
   "execution_count": 10,
   "metadata": {},
   "outputs": [
    {
     "name": "stdout",
     "output_type": "stream",
     "text": [
      "\n",
      "\n",
      "\u001b[1m> Entering new SQLDatabaseChain chain...\u001b[0m\n",
      "Which state has maximum no. of customer below age 50 years?\n",
      "SQLQuery:\u001b[32;1m\u001b[1;3mSELECT Customer.State, COUNT(Customer.CustomerId) AS \"No. of Customers\"\n",
      "FROM Customer\n",
      "INNER JOIN Employee ON Customer.SupportRepId = Employee.EmployeeId\n",
      "WHERE Employee.BirthDate > date('now', '-50 years')\n",
      "GROUP BY Customer.State\n",
      "ORDER BY COUNT(Customer.CustomerId) DESC\n",
      "LIMIT 1\u001b[0m\n",
      "SQLResult: \u001b[33;1m\u001b[1;3m\u001b[0m\n",
      "Answer:\u001b[32;1m\u001b[1;3mThe state with the maximum number of customers below the age of 50 is Alberta.\u001b[0m\n",
      "\u001b[1m> Finished chain.\u001b[0m\n"
     ]
    },
    {
     "data": {
      "text/plain": [
       "'The state with the maximum number of customers below the age of 50 is Alberta.'"
      ]
     },
     "execution_count": 10,
     "metadata": {},
     "output_type": "execute_result"
    }
   ],
   "source": [
    "db_chain.run(\"Which state has maximum no. of customer below age 50 years?\")"
   ]
  },
  {
   "cell_type": "code",
   "execution_count": 11,
   "metadata": {},
   "outputs": [
    {
     "name": "stdout",
     "output_type": "stream",
     "text": [
      "\n",
      "\n",
      "\u001b[1m> Entering new SQLDatabaseChain chain...\u001b[0m\n",
      "Top 5 customer name with highest Invoice Total\n",
      "SQLQuery:\u001b[32;1m\u001b[1;3mSELECT c.FirstName || \" \" || c.LastName AS \"Customer Name\", SUM(i.Total) AS \"Total Invoice\"\n",
      "FROM Customer c\n",
      "INNER JOIN Invoice i ON c.CustomerId = i.CustomerId\n",
      "GROUP BY c.CustomerId\n",
      "ORDER BY \"Total Invoice\" DESC\n",
      "LIMIT 5\u001b[0m\n",
      "SQLResult: \u001b[33;1m\u001b[1;3m[('Helena Holý', 49.620000000000005), ('Richard Cunningham', 47.620000000000005), ('Luis Rojas', 46.62), ('Ladislav Kovács', 45.62), (\"Hugh O'Reilly\", 45.62)]\u001b[0m\n",
      "Answer:\u001b[32;1m\u001b[1;3mHelena Holý\u001b[0m\n",
      "\u001b[1m> Finished chain.\u001b[0m\n"
     ]
    },
    {
     "data": {
      "text/plain": [
       "'Helena Holý'"
      ]
     },
     "execution_count": 11,
     "metadata": {},
     "output_type": "execute_result"
    }
   ],
   "source": [
    "db_chain.run(\"Top 5 customer name with highest Invoice Total\")"
   ]
  },
  {
   "cell_type": "code",
   "execution_count": 12,
   "metadata": {},
   "outputs": [
    {
     "name": "stdout",
     "output_type": "stream",
     "text": [
      "\n",
      "\n",
      "\u001b[1m> Entering new SQLDatabaseChain chain...\u001b[0m\n",
      "List the total sales per country. Which country's customers spent the most?\n",
      "SQLQuery:\u001b[32;1m\u001b[1;3mSELECT c.Country, SUM(i.Total) AS \"Total Sales\"\n",
      "FROM Customer c\n",
      "INNER JOIN Invoice i ON c.CustomerId = i.CustomerId\n",
      "GROUP BY c.Country\n",
      "ORDER BY \"Total Sales\" DESC\n",
      "LIMIT 1;\u001b[0m\n",
      "SQLResult: \u001b[33;1m\u001b[1;3m[('USA', 523.0600000000003)]\u001b[0m\n",
      "Answer:\u001b[32;1m\u001b[1;3mUSA\u001b[0m\n",
      "\u001b[1m> Finished chain.\u001b[0m\n"
     ]
    },
    {
     "data": {
      "text/plain": [
       "'USA'"
      ]
     },
     "execution_count": 12,
     "metadata": {},
     "output_type": "execute_result"
    }
   ],
   "source": [
    "db_chain.run(\"List the total sales per country. Which country's customers spent the most?\")"
   ]
  },
  {
   "cell_type": "code",
   "execution_count": 15,
   "metadata": {},
   "outputs": [
    {
     "name": "stdout",
     "output_type": "stream",
     "text": [
      "\n",
      "\n",
      "\u001b[1m> Entering new SQLDatabaseChain chain...\u001b[0m\n",
      "List the total sales per country for all the countries in database without limiting it to specific number\n",
      "SQLQuery:\u001b[32;1m\u001b[1;3mSELECT c.Country, SUM(i.Total) AS \"Total Sales\"\n",
      "FROM Customer c\n",
      "INNER JOIN Invoice i ON c.CustomerId = i.CustomerId\n",
      "GROUP BY c.Country\n",
      "ORDER BY \"Total Sales\" DESC\u001b[0m\n",
      "SQLResult: \u001b[33;1m\u001b[1;3m[('USA', 523.0600000000003), ('Canada', 303.9599999999999), ('France', 195.09999999999994), ('Brazil', 190.09999999999997), ('Germany', 156.48), ('United Kingdom', 112.85999999999999), ('Czech Republic', 90.24000000000001), ('Portugal', 77.23999999999998), ('India', 75.25999999999999), ('Chile', 46.62), ('Ireland', 45.62), ('Hungary', 45.62), ('Austria', 42.62), ('Finland', 41.620000000000005), ('Netherlands', 40.62), ('Norway', 39.62), ('Sweden', 38.620000000000005), ('Poland', 37.620000000000005), ('Italy', 37.620000000000005), ('Denmark', 37.620000000000005), ('Australia', 37.620000000000005), ('Argentina', 37.620000000000005), ('Spain', 37.62), ('Belgium', 37.62)]\u001b[0m\n",
      "Answer:\u001b[32;1m\u001b[1;3mThe total sales per country for all the countries in the database are: \n",
      "1. USA - $523.06\n",
      "2. Canada - $303.96\n",
      "3. France - $195.10\n",
      "4. Brazil - $190.10\n",
      "5. Germany - $156.48\n",
      "6. United Kingdom - $112.86\n",
      "7. Czech Republic - $90.24\n",
      "8. Portugal - $77.24\n",
      "9. India - $75.26\n",
      "10. Chile - $46.62\n",
      "11. Ireland - $45.62\n",
      "12. Hungary - $45.62\n",
      "13. Austria - $42.62\n",
      "14. Finland - $41.62\n",
      "15. Netherlands - $40.62\n",
      "16. Norway - $39.62\n",
      "17. Sweden - $38.62\n",
      "18. Poland - $37.62\n",
      "19. Italy - $37.62\n",
      "20. Denmark - $37.62\n",
      "21. Australia - $37.62\n",
      "22. Argentina - $37.62\n",
      "23. Spain - $37.62\n",
      "24. Belgium - $37.62\u001b[0m\n",
      "\u001b[1m> Finished chain.\u001b[0m\n"
     ]
    },
    {
     "data": {
      "text/plain": [
       "'The total sales per country for all the countries in the database are: \\n1. USA - $523.06\\n2. Canada - $303.96\\n3. France - $195.10\\n4. Brazil - $190.10\\n5. Germany - $156.48\\n6. United Kingdom - $112.86\\n7. Czech Republic - $90.24\\n8. Portugal - $77.24\\n9. India - $75.26\\n10. Chile - $46.62\\n11. Ireland - $45.62\\n12. Hungary - $45.62\\n13. Austria - $42.62\\n14. Finland - $41.62\\n15. Netherlands - $40.62\\n16. Norway - $39.62\\n17. Sweden - $38.62\\n18. Poland - $37.62\\n19. Italy - $37.62\\n20. Denmark - $37.62\\n21. Australia - $37.62\\n22. Argentina - $37.62\\n23. Spain - $37.62\\n24. Belgium - $37.62'"
      ]
     },
     "execution_count": 15,
     "metadata": {},
     "output_type": "execute_result"
    }
   ],
   "source": [
    "db_chain.run(\"List the total sales per country for all the countries in database without limiting it to specific number\")"
   ]
  },
  {
   "cell_type": "code",
   "execution_count": 16,
   "metadata": {},
   "outputs": [
    {
     "name": "stdout",
     "output_type": "stream",
     "text": [
      "\n",
      "\n",
      "\u001b[1m> Entering new SQLDatabaseChain chain...\u001b[0m\n",
      "List all the tables in database\n",
      "SQLQuery:\u001b[32;1m\u001b[1;3mSELECT name FROM sqlite_master WHERE type='table'\u001b[0m\n",
      "SQLResult: \u001b[33;1m\u001b[1;3m[('Album',), ('Artist',), ('Customer',), ('Employee',), ('Genre',), ('Invoice',), ('InvoiceLine',), ('MediaType',), ('Playlist',), ('PlaylistTrack',), ('Track',)]\u001b[0m\n",
      "Answer:\u001b[32;1m\u001b[1;3mAlbum, Artist, Customer, Employee, Genre, Invoice, InvoiceLine, MediaType, Playlist, PlaylistTrack, Track\u001b[0m\n",
      "\u001b[1m> Finished chain.\u001b[0m\n"
     ]
    },
    {
     "data": {
      "text/plain": [
       "'Album, Artist, Customer, Employee, Genre, Invoice, InvoiceLine, MediaType, Playlist, PlaylistTrack, Track'"
      ]
     },
     "execution_count": 16,
     "metadata": {},
     "output_type": "execute_result"
    }
   ],
   "source": [
    "db_chain.run(\"List all the tables in database\")"
   ]
  },
  {
   "cell_type": "code",
   "execution_count": 17,
   "metadata": {},
   "outputs": [
    {
     "name": "stdout",
     "output_type": "stream",
     "text": [
      "\n",
      "\n",
      "\u001b[1m> Entering new SQLDatabaseChain chain...\u001b[0m\n",
      "Describe Invoice Table\n",
      "SQLQuery:\u001b[32;1m\u001b[1;3mSELECT \"InvoiceId\", \"CustomerId\", \"InvoiceDate\", \"BillingAddress\", \"BillingCity\", \"BillingState\", \"BillingCountry\", \"BillingPostalCode\", \"Total\" FROM \"Invoice\" LIMIT 5\u001b[0m\n",
      "SQLResult: \u001b[33;1m\u001b[1;3m[(1, 2, '2009-01-01 00:00:00', 'Theodor-Heuss-Straße 34', 'Stuttgart', None, 'Germany', '70174', 1.98), (2, 4, '2009-01-02 00:00:00', 'Ullevålsveien 14', 'Oslo', None, 'Norway', '0171', 3.96), (3, 8, '2009-01-03 00:00:00', 'Grétrystraat 63', 'Brussels', None, 'Belgium', '1000', 5.94), (4, 14, '2009-01-06 00:00:00', '8210 111 ST NW', 'Edmonton', 'AB', 'Canada', 'T6G 2C7', 8.91), (5, 23, '2009-01-11 00:00:00', '69 Salem Street', 'Boston', 'MA', 'USA', '2113', 13.86)]\u001b[0m\n",
      "Answer:\u001b[32;1m\u001b[1;3mThe Invoice table contains information about customer invoices, including the invoice ID, customer ID, invoice date, billing address, billing city, billing state, billing country, billing postal code, and total amount.\u001b[0m\n",
      "\u001b[1m> Finished chain.\u001b[0m\n"
     ]
    },
    {
     "data": {
      "text/plain": [
       "'The Invoice table contains information about customer invoices, including the invoice ID, customer ID, invoice date, billing address, billing city, billing state, billing country, billing postal code, and total amount.'"
      ]
     },
     "execution_count": 17,
     "metadata": {},
     "output_type": "execute_result"
    }
   ],
   "source": [
    "db_chain.run(\"Describe Invoice Table\")"
   ]
  }
 ],
 "metadata": {
  "kernelspec": {
   "display_name": "llm",
   "language": "python",
   "name": "python3"
  },
  "language_info": {
   "codemirror_mode": {
    "name": "ipython",
    "version": 3
   },
   "file_extension": ".py",
   "mimetype": "text/x-python",
   "name": "python",
   "nbconvert_exporter": "python",
   "pygments_lexer": "ipython3",
   "version": "3.11.3"
  },
  "orig_nbformat": 4
 },
 "nbformat": 4,
 "nbformat_minor": 2
}
